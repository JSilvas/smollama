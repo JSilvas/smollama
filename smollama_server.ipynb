{
 "cells": [
  {
   "cell_type": "code",
   "execution_count": null,
   "id": "3cf9818c",
   "metadata": {},
   "outputs": [
    {
     "name": "stdout",
     "output_type": "stream",
     "text": [
      "\u001b[2mAudited \u001b[1m3 packages\u001b[0m \u001b[2min 4ms\u001b[0m\u001b[0m\n"
     ]
    }
   ],
   "source": [
    "\n",
    "!uv pip install fastapi uvicorn nest_asyncio"
   ]
  },
  {
   "cell_type": "code",
   "execution_count": null,
   "id": "337d74d4",
   "metadata": {},
   "outputs": [
    {
     "name": "stderr",
     "output_type": "stream",
     "text": [
      "INFO:     Started server process [10777]\n",
      "INFO:     Waiting for application startup.\n",
      "INFO:     Application startup complete.\n",
      "INFO:     Uvicorn running on http://0.0.0.0:8000 (Press CTRL+C to quit)\n"
     ]
    },
    {
     "name": "stdout",
     "output_type": "stream",
     "text": [
      "Server starting... wait a few seconds before testing\n",
      "Server should be running at http://localhost:8000\n"
     ]
    },
    {
     "name": "stdout",
     "output_type": "stream",
     "text": [
      "INFO:     127.0.0.1:64044 - \"GET / HTTP/1.1\" 200 OK\n",
      "INFO:     127.0.0.1:64048 - \"GET /health HTTP/1.1\" 200 OK\n",
      "INFO:     127.0.0.1:64050 - \"GET / HTTP/1.1\" 200 OK\n",
      "INFO:     127.0.0.1:64052 - \"GET /health HTTP/1.1\" 200 OK\n",
      "INFO:     127.0.0.1:64055 - \"GET / HTTP/1.1\" 200 OK\n",
      "INFO:     127.0.0.1:64057 - \"GET /health HTTP/1.1\" 200 OK\n",
      "INFO:     127.0.0.1:64113 - \"GET / HTTP/1.1\" 200 OK\n",
      "INFO:     127.0.0.1:64126 - \"GET /health HTTP/1.1\" 200 OK\n",
      "INFO:     127.0.0.1:64373 - \"GET / HTTP/1.1\" 200 OK\n",
      "INFO:     127.0.0.1:64375 - \"GET /health HTTP/1.1\" 200 OK\n"
     ]
    }
   ],
   "source": [
    "import nest_asyncio\n",
    "nest_asyncio.apply()  # This allows asyncio to work in notebook cells\n",
    "\n",
    "from fastapi import FastAPI\n",
    "import uvicorn\n",
    "\n",
    "from threading import Thread\n",
    "import time\n",
    "\n",
    "# Create a FastAPI instance\n",
    "app = FastAPI(title=\"Pi LLM API Validation\")\n",
    "\n",
    "# Define a simple root endpoint\n",
    "@app.get(\"/\")\n",
    "async def read_root():\n",
    "    return {\"message\": \"I'm awake!\"}\n",
    "\n",
    "# Also add a health check endpoint\n",
    "@app.get(\"/health\")\n",
    "async def health_check():\n",
    "    return {\"status\": \"healthy\"}\n",
    "\n",
    "# Function to run the server in a background thread\n",
    "def run_server():\n",
    "    uvicorn.run(app, host=\"0.0.0.0\", port=8000)\n",
    "\n",
    "# Start the server in a background thread\n",
    "server_thread = Thread(target=run_server, daemon=True)\n",
    "server_thread.start()\n",
    "\n",
    "print(\"Server starting... wait a few seconds before testing\")\n",
    "time.sleep(2)  # Give it a moment to start up\n",
    "print(\"Server should be running at http://localhost:8000\")"
   ]
  },
  {
   "cell_type": "code",
   "execution_count": 6,
   "id": "0e10fc7d",
   "metadata": {},
   "outputs": [
    {
     "name": "stdout",
     "output_type": "stream",
     "text": [
      "Response from root endpoint: {'message': \"I'm awake!\"}\n",
      "Response from health check endpoint: {'status': 'healthy'}\n"
     ]
    }
   ],
   "source": [
    "import requests\n",
    "\n",
    "# Test the root endpoint\n",
    "response = requests.get(\"http://localhost:8000/\")\n",
    "print(\"Response from root endpoint:\", response.json())\n",
    "\n",
    "# Test the health check endpoint\n",
    "response = requests.get(\"http://localhost:8000/health\")\n",
    "print(\"Response from health check endpoint:\", response.json())"
   ]
  }
 ],
 "metadata": {
  "kernelspec": {
   "display_name": ".venv",
   "language": "python",
   "name": "python3"
  },
  "language_info": {
   "codemirror_mode": {
    "name": "ipython",
    "version": 3
   },
   "file_extension": ".py",
   "mimetype": "text/x-python",
   "name": "python",
   "nbconvert_exporter": "python",
   "pygments_lexer": "ipython3",
   "version": "3.13.3"
  }
 },
 "nbformat": 4,
 "nbformat_minor": 5
}
